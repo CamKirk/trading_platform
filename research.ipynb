{
 "metadata": {
  "language_info": {
   "codemirror_mode": {
    "name": "ipython",
    "version": 3
   },
   "file_extension": ".py",
   "mimetype": "text/x-python",
   "name": "python",
   "nbconvert_exporter": "python",
   "pygments_lexer": "ipython3",
   "version": "3.6.9-final"
  },
  "orig_nbformat": 2,
  "kernelspec": {
   "name": "python36964bitbaseconda0d17fd5a27e840038086345058d6e358",
   "display_name": "Python 3.6.9 64-bit ('base': conda)"
  }
 },
 "nbformat": 4,
 "nbformat_minor": 2,
 "cells": [
  {
   "cell_type": "code",
   "execution_count": 4,
   "metadata": {},
   "outputs": [],
   "source": [
    "import libs as stock"
   ]
  },
  {
   "cell_type": "code",
   "execution_count": 6,
   "metadata": {},
   "outputs": [
    {
     "output_type": "execute_result",
     "data": {
      "text/plain": [
       "time\n",
       "2020-10-01 13:30:00-04:00     88.10\n",
       "2020-10-01 13:45:00-04:00     87.95\n",
       "2020-10-01 14:00:00-04:00     87.95\n",
       "2020-10-01 14:15:00-04:00     88.47\n",
       "2020-10-01 14:30:00-04:00     88.25\n",
       "                              ...  \n",
       "2020-10-16 14:45:00-04:00    111.23\n",
       "2020-10-16 15:00:00-04:00    111.08\n",
       "2020-10-16 15:15:00-04:00    111.04\n",
       "2020-10-16 15:30:00-04:00    111.16\n",
       "2020-10-16 15:45:00-04:00    110.86\n",
       "Name: close, Length: 300, dtype: float64"
      ]
     },
     "metadata": {},
     "execution_count": 6
    }
   ],
   "source": [
    "stock.get_stock(\"enph\", close=True)"
   ]
  },
  {
   "cell_type": "code",
   "execution_count": null,
   "metadata": {},
   "outputs": [],
   "source": [
    "def MACD(closes, fast=12, slow=26, signal_lag):"
   ]
  }
 ]
}